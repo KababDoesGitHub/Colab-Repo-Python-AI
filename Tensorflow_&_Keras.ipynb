{
  "nbformat": 4,
  "nbformat_minor": 0,
  "metadata": {
    "colab": {
      "provenance": [],
      "toc_visible": true,
      "authorship_tag": "ABX9TyNyiuaVR8LResKus3rcZfjM",
      "include_colab_link": true
    },
    "kernelspec": {
      "name": "python3",
      "display_name": "Python 3"
    },
    "language_info": {
      "name": "python"
    }
  },
  "cells": [
    {
      "cell_type": "markdown",
      "metadata": {
        "id": "view-in-github",
        "colab_type": "text"
      },
      "source": [
        "<a href=\"https://colab.research.google.com/github/KababDoesGitHub/Colab-Repo-Python-AI/blob/main/Tensorflow_%26_Keras.ipynb\" target=\"_parent\"><img src=\"https://colab.research.google.com/assets/colab-badge.svg\" alt=\"Open In Colab\"/></a>"
      ]
    },
    {
      "cell_type": "code",
      "execution_count": 1,
      "metadata": {
        "id": "DquV6VD6rMdb"
      },
      "outputs": [],
      "source": [
        "import tensorflow as tf\n",
        "import keras"
      ]
    },
    {
      "cell_type": "code",
      "source": [
        "const_1 = tf.constant(100)"
      ],
      "metadata": {
        "id": "xq6kXXeIsLQk"
      },
      "execution_count": 5,
      "outputs": []
    },
    {
      "cell_type": "code",
      "source": [
        "const_1.shape"
      ],
      "metadata": {
        "colab": {
          "base_uri": "https://localhost:8080/"
        },
        "id": "Bkh3UlHmtuBO",
        "outputId": "01dedccf-2f7f-49e7-c9bc-5afec668ab28"
      },
      "execution_count": 6,
      "outputs": [
        {
          "output_type": "execute_result",
          "data": {
            "text/plain": [
              "TensorShape([])"
            ]
          },
          "metadata": {},
          "execution_count": 6
        }
      ]
    },
    {
      "cell_type": "code",
      "source": [
        "const_1.numpy()"
      ],
      "metadata": {
        "colab": {
          "base_uri": "https://localhost:8080/"
        },
        "id": "TByFgp4at8zN",
        "outputId": "3a9bed5b-187a-4096-81e3-6fd2de5245f1"
      },
      "execution_count": 7,
      "outputs": [
        {
          "output_type": "execute_result",
          "data": {
            "text/plain": [
              "100"
            ]
          },
          "metadata": {},
          "execution_count": 7
        }
      ]
    },
    {
      "cell_type": "code",
      "source": [
        "const_2 = tf.constant([10, 20 , 30, 40, 50, 60, 70, 80])"
      ],
      "metadata": {
        "id": "f9oV6BNGuAz5"
      },
      "execution_count": 8,
      "outputs": []
    },
    {
      "cell_type": "code",
      "source": [
        "const_2.shape"
      ],
      "metadata": {
        "colab": {
          "base_uri": "https://localhost:8080/"
        },
        "id": "6LtU_DgQu2TZ",
        "outputId": "7b692b05-0b51-4931-a182-89a56620b7dc"
      },
      "execution_count": 11,
      "outputs": [
        {
          "output_type": "execute_result",
          "data": {
            "text/plain": [
              "TensorShape([8])"
            ]
          },
          "metadata": {},
          "execution_count": 11
        }
      ]
    },
    {
      "cell_type": "code",
      "source": [
        "const_2.numpy"
      ],
      "metadata": {
        "colab": {
          "base_uri": "https://localhost:8080/"
        },
        "id": "6h4IIi9cvFJw",
        "outputId": "03329a75-8fee-4fdd-e736-e6de963ddae8"
      },
      "execution_count": 12,
      "outputs": [
        {
          "output_type": "execute_result",
          "data": {
            "text/plain": [
              "<bound method _EagerTensorBase.numpy of <tf.Tensor: shape=(8,), dtype=int32, numpy=array([10, 20, 30, 40, 50, 60, 70, 80], dtype=int32)>>"
            ]
          },
          "metadata": {},
          "execution_count": 12
        }
      ]
    },
    {
      "cell_type": "code",
      "source": [
        "const_3 = tf.constant([[10, 20 , 30, 40, 50, 60, 70, 80],[10, 20 , 30, 40, 50, 60, 70, 80],[10, 20 , 30, 40, 50, 60, 70, 80]])"
      ],
      "metadata": {
        "id": "CHZLLFVkvJLf"
      },
      "execution_count": 16,
      "outputs": []
    },
    {
      "cell_type": "code",
      "source": [
        "const_3.shape"
      ],
      "metadata": {
        "colab": {
          "base_uri": "https://localhost:8080/"
        },
        "id": "xg5yMmVExC8d",
        "outputId": "06ab04e3-7260-4c6c-a914-0de05dc7a264"
      },
      "execution_count": 17,
      "outputs": [
        {
          "output_type": "execute_result",
          "data": {
            "text/plain": [
              "TensorShape([3, 8])"
            ]
          },
          "metadata": {},
          "execution_count": 17
        }
      ]
    },
    {
      "cell_type": "code",
      "source": [
        "const_3.numpy"
      ],
      "metadata": {
        "colab": {
          "base_uri": "https://localhost:8080/"
        },
        "id": "EUcLs9GsxKA0",
        "outputId": "89f6032d-24c8-4ab6-98e8-12937f39b234"
      },
      "execution_count": 19,
      "outputs": [
        {
          "output_type": "execute_result",
          "data": {
            "text/plain": [
              "<bound method _EagerTensorBase.numpy of <tf.Tensor: shape=(3, 8), dtype=int32, numpy=\n",
              "array([[10, 20, 30, 40, 50, 60, 70, 80],\n",
              "       [10, 20, 30, 40, 50, 60, 70, 80],\n",
              "       [10, 20, 30, 40, 50, 60, 70, 80]], dtype=int32)>>"
            ]
          },
          "metadata": {},
          "execution_count": 19
        }
      ]
    },
    {
      "cell_type": "code",
      "source": [
        "const_4 = tf.constant([[[10, 20 , 30, 40, 50, 60, 70, 80],[10, 20 , 30, 40, 50, 60, 70, 80],[10, 20 , 30, 40, 50, 60, 70, 80]],[[10, 20 , 30, 40, 50, 60, 70, 80],[10, 20 , 30, 40, 50, 60, 70, 80],[10, 20 , 30, 40, 50, 60, 70, 80]]])"
      ],
      "metadata": {
        "id": "5C74-9PdxUHP"
      },
      "execution_count": 20,
      "outputs": []
    },
    {
      "cell_type": "code",
      "source": [
        "const_4.shape"
      ],
      "metadata": {
        "colab": {
          "base_uri": "https://localhost:8080/"
        },
        "id": "aPO1IJAMyKM0",
        "outputId": "09324833-f015-48c0-dc75-4d95b6fbd9f8"
      },
      "execution_count": 21,
      "outputs": [
        {
          "output_type": "execute_result",
          "data": {
            "text/plain": [
              "TensorShape([2, 3, 8])"
            ]
          },
          "metadata": {},
          "execution_count": 21
        }
      ]
    },
    {
      "cell_type": "code",
      "source": [
        "const_4.numpy"
      ],
      "metadata": {
        "colab": {
          "base_uri": "https://localhost:8080/"
        },
        "id": "mc-LrWLLyPKH",
        "outputId": "a10a8113-881c-4a57-9322-ee09d210e705"
      },
      "execution_count": 22,
      "outputs": [
        {
          "output_type": "execute_result",
          "data": {
            "text/plain": [
              "<bound method _EagerTensorBase.numpy of <tf.Tensor: shape=(2, 3, 8), dtype=int32, numpy=\n",
              "array([[[10, 20, 30, 40, 50, 60, 70, 80],\n",
              "        [10, 20, 30, 40, 50, 60, 70, 80],\n",
              "        [10, 20, 30, 40, 50, 60, 70, 80]],\n",
              "\n",
              "       [[10, 20, 30, 40, 50, 60, 70, 80],\n",
              "        [10, 20, 30, 40, 50, 60, 70, 80],\n",
              "        [10, 20, 30, 40, 50, 60, 70, 80]]], dtype=int32)>>"
            ]
          },
          "metadata": {},
          "execution_count": 22
        }
      ]
    },
    {
      "cell_type": "code",
      "source": [],
      "metadata": {
        "id": "u9U4HaIDyQp1"
      },
      "execution_count": null,
      "outputs": []
    },
    {
      "cell_type": "markdown",
      "source": [
        "Mathematical Operations"
      ],
      "metadata": {
        "id": "mlSUHmAS2oMR"
      }
    },
    {
      "cell_type": "code",
      "source": [
        "X = tf.constant([[8],[9],[11],[10],[12]])"
      ],
      "metadata": {
        "id": "OqqP0wb92qW4"
      },
      "execution_count": 27,
      "outputs": []
    },
    {
      "cell_type": "code",
      "source": [
        "X.shape"
      ],
      "metadata": {
        "colab": {
          "base_uri": "https://localhost:8080/"
        },
        "id": "SvHtXGUp23WD",
        "outputId": "5d3835d7-4980-464a-a791-14970d3e81d5"
      },
      "execution_count": 28,
      "outputs": [
        {
          "output_type": "execute_result",
          "data": {
            "text/plain": [
              "TensorShape([5, 1])"
            ]
          },
          "metadata": {},
          "execution_count": 28
        }
      ]
    },
    {
      "cell_type": "code",
      "source": [
        "W = tf.Variable([[10],[11],[12],[13],[14]])"
      ],
      "metadata": {
        "id": "vmDX_4aW28io"
      },
      "execution_count": 33,
      "outputs": []
    },
    {
      "cell_type": "code",
      "source": [
        "WT = tf.transpose(W)"
      ],
      "metadata": {
        "id": "0DVDsS6B4S-z"
      },
      "execution_count": 35,
      "outputs": []
    },
    {
      "cell_type": "code",
      "source": [
        "tf.tensordot(WT,X, axes = 1)"
      ],
      "metadata": {
        "colab": {
          "base_uri": "https://localhost:8080/"
        },
        "id": "lAvLs0W93Kbe",
        "outputId": "8b66c848-db3c-4654-cb28-25f522b7a463"
      },
      "execution_count": 36,
      "outputs": [
        {
          "output_type": "execute_result",
          "data": {
            "text/plain": [
              "<tf.Tensor: shape=(1, 1), dtype=int32, numpy=array([[609]], dtype=int32)>"
            ]
          },
          "metadata": {},
          "execution_count": 36
        }
      ]
    },
    {
      "cell_type": "markdown",
      "source": [
        "Keras is high level API based on Tensorflow, to create Deep Learning Neural Networks easily. Dense Neural Netowrk(DNN), Convoluted Neural Network (CNN), Recurrent Neural Network(RNN)"
      ],
      "metadata": {
        "id": "P_a7Q8db6DVk"
      }
    },
    {
      "cell_type": "code",
      "source": [],
      "metadata": {
        "id": "28Jzcaq54dYH"
      },
      "execution_count": null,
      "outputs": []
    }
  ]
}